{
 "cells": [
  {
   "cell_type": "code",
   "execution_count": 1,
   "id": "68296a04-868e-4902-b813-11980852d36a",
   "metadata": {},
   "outputs": [
    {
     "name": "stdout",
     "output_type": "stream",
     "text": [
      "YF.download() has changed argument auto_adjust default to True\n"
     ]
    },
    {
     "name": "stderr",
     "output_type": "stream",
     "text": [
      "[*********************100%***********************]  2 of 2 completed\n"
     ]
    },
    {
     "name": "stdout",
     "output_type": "stream",
     "text": [
      "Date\n",
      "2015-01-01    0.000001\n",
      "2015-01-02    0.000001\n",
      "2015-01-03    0.000001\n",
      "2015-01-04    0.000001\n",
      "2015-01-05    0.000001\n",
      "Freq: D, Name: TB3MS, dtype: float64\n",
      "             EU_Rate\n",
      "Date                \n",
      "2015-01-01  0.000109\n",
      "2015-01-02  0.000109\n",
      "2015-01-03  0.000109\n",
      "2015-01-04  0.000109\n",
      "2015-01-05  0.000109\n"
     ]
    }
   ],
   "source": [
    "import sys\n",
    "import os\n",
    "sys.path.append(os.path.abspath(os.path.join(os.getcwd(), '..')))\n",
    "import yfinance as yf\n",
    "from src.riskfree import RiskFreeRate\n",
    "\n",
    "# Beispielzeitreihe\n",
    "start_date = \"2015-01-01\"\n",
    "end_date = \"2025-07-30\"\n",
    "tickers = [\"^SP500TR\", \"BTC-USD\"]\n",
    "\n",
    "data = yf.download(tickers, start=start_date, end=end_date)\n",
    "date_index = data.index  # oder df_prices.index[1:]\n",
    "\n",
    "# US risk-free via FRED\n",
    "rf_us = RiskFreeRate.us_fred(date_index)\n",
    "print(rf_us.head())\n",
    "\n",
    "# EU risk-free (Platzhalter)\n",
    "rf_eu = RiskFreeRate.eu_placeholder(date_index)\n",
    "print(rf_eu.head())\n"
   ]
  },
  {
   "cell_type": "code",
   "execution_count": null,
   "id": "605e8eb7-5728-4005-abec-ec415c4e09ca",
   "metadata": {},
   "outputs": [],
   "source": []
  }
 ],
 "metadata": {
  "kernelspec": {
   "display_name": "Python 3 (ipykernel)",
   "language": "python",
   "name": "python3"
  },
  "language_info": {
   "codemirror_mode": {
    "name": "ipython",
    "version": 3
   },
   "file_extension": ".py",
   "mimetype": "text/x-python",
   "name": "python",
   "nbconvert_exporter": "python",
   "pygments_lexer": "ipython3",
   "version": "3.10.18"
  }
 },
 "nbformat": 4,
 "nbformat_minor": 5
}
