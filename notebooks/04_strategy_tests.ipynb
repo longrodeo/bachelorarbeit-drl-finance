{
 "cells": [
  {
   "cell_type": "markdown",
   "id": "99e8cf35",
   "metadata": {},
   "source": [
    "# 💼 Strategy Tests: SMA, Risk-Adjusted & Optimizers\n",
    "Assets: `^SP500TR`, `BTC-USD`\n",
    "Market Proxy: `URTH` (iShares MSCI World ETF)\n",
    "Risk-Free Rate: FRED TB3MS"
   ]
  },
  {
   "cell_type": "code",
   "execution_count": 17,
   "id": "a28741bb",
   "metadata": {},
   "outputs": [],
   "source": [
    "import sys\n",
    "import os\n",
    "sys.path.append(os.path.abspath(os.path.join(os.getcwd(), '..')))\n",
    "from data.load_raw import load_prices\n",
    "from src.returns import Returns\n",
    "from src.kpis import KPI\n",
    "from features.riskfree_interest import RiskFreeRate\n",
    "from src.strategies import Strategies\n"
   ]
  },
  {
   "cell_type": "markdown",
   "id": "4e9b565d",
   "metadata": {},
   "source": [
    "## Daten laden"
   ]
  },
  {
   "cell_type": "code",
   "execution_count": 18,
   "id": "f7bf2484",
   "metadata": {},
   "outputs": [
    {
     "name": "stderr",
     "output_type": "stream",
     "text": [
      "[*********************100%***********************]  3 of 3 completed\n"
     ]
    }
   ],
   "source": [
    "# Preise für Assets und Markt laden\n",
    "assets = [\"^SP500TR\", \"BTC-USD\"]\n",
    "market_symbol = \"URTH\"  # Proxy für MSCI World\n",
    "all_symbols = assets + [market_symbol]\n",
    "start = \"2015-01-01\"\n",
    "end = \"2024-01-01\"\n",
    "\n",
    "df = load_prices(all_symbols, start, end)\n",
    "price_assets = df[assets]\n",
    "price_market = df[market_symbol]"
   ]
  },
  {
   "cell_type": "markdown",
   "id": "41ffbf74",
   "metadata": {},
   "source": [
    "## Renditen & Risk-Free Rate"
   ]
  },
  {
   "cell_type": "code",
   "execution_count": 19,
   "id": "15861ef9",
   "metadata": {},
   "outputs": [],
   "source": [
    "# Log-Renditen\n",
    "log_ret_assets = Returns.log(price_assets)\n",
    "log_ret_market = Returns.log(price_market.to_frame()).iloc[:, 0]\n",
    "\n",
    "# Risk-Free Rate (daily)\n",
    "rf = RiskFreeRate.us_fred(log_ret_assets.index)"
   ]
  },
  {
   "cell_type": "markdown",
   "id": "bda8947d",
   "metadata": {},
   "source": [
    "### 1. SMA Crossover"
   ]
  },
  {
   "cell_type": "code",
   "execution_count": 20,
   "id": "4550feba",
   "metadata": {},
   "outputs": [
    {
     "name": "stdout",
     "output_type": "stream",
     "text": [
      "{'Ann. Return': 0.5719705784074521, 'Ann. Volatility': 0.5828848424274752, 'Sharpe Ratio': 0.9816123659521244, 'Sortino Ratio': 1.2632492730343903, 'Max Drawdown': -0.6949646546569002, 'Calmar Ratio': 0.8230211055695064, 'Value at Risk': 0.06266594311094532, 'Skewness': -0.0538685287564894, 'Kurtosis': 10.940643120522777}\n"
     ]
    },
    {
     "ename": "AttributeError",
     "evalue": "'PlotAccessor' object has no attribute 'show'",
     "output_type": "error",
     "traceback": [
      "\u001B[1;31m---------------------------------------------------------------------------\u001B[0m",
      "\u001B[1;31mAttributeError\u001B[0m                            Traceback (most recent call last)",
      "Cell \u001B[1;32mIn[20], line 10\u001B[0m\n\u001B[0;32m      8\u001B[0m report_sma \u001B[38;5;241m=\u001B[39m KPI\u001B[38;5;241m.\u001B[39mget_kpi_report(port_ret_sma, risk_free_rate\u001B[38;5;241m=\u001B[39mrf)\n\u001B[0;32m      9\u001B[0m \u001B[38;5;28mprint\u001B[39m(report_sma)\n\u001B[1;32m---> 10\u001B[0m \u001B[43mport_ret_sma\u001B[49m\u001B[38;5;241;43m.\u001B[39;49m\u001B[43mplot\u001B[49m\u001B[38;5;241;43m.\u001B[39;49m\u001B[43mshow\u001B[49m()\n",
      "\u001B[1;31mAttributeError\u001B[0m: 'PlotAccessor' object has no attribute 'show'"
     ]
    }
   ],
   "source": [
    "# 0/1 Signale\n",
    "signals = Strategies.sma_crossover(price_assets, fast=50, slow=200)\n",
    "\n",
    "# Portfolio-Return: Signal von gestern * Rendite heute\n",
    "port_ret_sma = (signals.shift(1) * log_ret_assets).sum(axis=1)\n",
    "\n",
    "# KPI-Report\n",
    "report_sma = KPI.get_kpi_report(port_ret_sma, risk_free_rate=rf)\n",
    "print(report_sma)\n",
    "port_ret_sma.plot.show()"
   ]
  },
  {
   "cell_type": "markdown",
   "id": "9157a13d",
   "metadata": {},
   "source": [
    "### 2. Risk-Adjusted Weighting"
   ]
  },
  {
   "cell_type": "markdown",
   "id": "bd9eed1b",
   "metadata": {},
   "source": [
    "#### Methode: Sharpe"
   ]
  },
  {
   "cell_type": "code",
   "execution_count": 9,
   "id": "481bf3f9",
   "metadata": {},
   "outputs": [
    {
     "name": "stdout",
     "output_type": "stream",
     "text": [
      "Gewichte (sharpe): {'^SP500TR': 0.44179399783493567, 'BTC-USD': 0.5582060021650644}\n",
      "KPIs (sharpe): {'Ann. Return': 0.35387598888445193, 'Ann. Volatility': 0.4197153330006202, 'Sharpe Ratio': 0.8429990593407642, 'Sortino Ratio': 1.0107702250455008, 'Max Drawdown': -0.630948267146122, 'Calmar Ratio': 0.5608637146831207, 'Value at Risk': 0.04489351013039915, 'Skewness': -0.9832067598627049, 'Kurtosis': 14.613710092006297}\n"
     ]
    }
   ],
   "source": [
    "# Einmaliges Gewicht basierend auf sharpe\n",
    "weights_sharpe = Strategies.risk_adjusted_weights(price_assets, method='sharpe', max_weight=0.8).iloc[0]\n",
    "port_ret_sharpe = (weights_sharpe * log_ret_assets).sum(axis=1)\n",
    "print(\"Gewichte (sharpe):\", weights_sharpe.to_dict())\n",
    "print(\"KPIs (sharpe):\", KPI.get_kpi_report(port_ret_sharpe, risk_free_rate=rf))"
   ]
  },
  {
   "cell_type": "markdown",
   "id": "6507604f",
   "metadata": {},
   "source": [
    "#### Methode: Sortino"
   ]
  },
  {
   "cell_type": "code",
   "execution_count": 10,
   "id": "b6edf4ba",
   "metadata": {},
   "outputs": [
    {
     "name": "stdout",
     "output_type": "stream",
     "text": [
      "Gewichte (sortino): {'^SP500TR': 0.4333813720931633, 'BTC-USD': 0.5666186279068367}\n",
      "KPIs (sortino): {'Ann. Return': 0.3575173334602379, 'Ann. Volatility': 0.4249403301153621, 'Sharpe Ratio': 0.8412027528409963, 'Sortino Ratio': 1.0084316729696536, 'Max Drawdown': -0.6363703060565351, 'Calmar Ratio': 0.5618070643108795, 'Value at Risk': 0.0454493534155286, 'Skewness': -0.9745230855958172, 'Kurtosis': 14.545653548531408}\n"
     ]
    }
   ],
   "source": [
    "# Einmaliges Gewicht basierend auf sortino\n",
    "weights_sortino = Strategies.risk_adjusted_weights(price_assets, method='sortino', max_weight=0.8).iloc[0]\n",
    "port_ret_sortino = (weights_sortino * log_ret_assets).sum(axis=1)\n",
    "print(\"Gewichte (sortino):\", weights_sortino.to_dict())\n",
    "print(\"KPIs (sortino):\", KPI.get_kpi_report(port_ret_sortino, risk_free_rate=rf))"
   ]
  },
  {
   "cell_type": "markdown",
   "id": "79fd1465",
   "metadata": {},
   "source": [
    "#### Methode: Calmar"
   ]
  },
  {
   "cell_type": "code",
   "execution_count": 11,
   "id": "ba02ff3a",
   "metadata": {},
   "outputs": [
    {
     "name": "stdout",
     "output_type": "stream",
     "text": [
      "Gewichte (calmar): {'^SP500TR': 0.33602601364493584, 'BTC-USD': 0.6639739863550641}\n",
      "KPIs (calmar): {'Ann. Return': 0.3996569004980168, 'Ann. Volatility': 0.4863600812059622, 'Sharpe Ratio': 0.8216145978369502, 'Sortino Ratio': 0.9911519719099853, 'Max Drawdown': -0.6936116970373538, 'Calmar Ratio': 0.5761968868245508, 'Value at Risk': 0.05198064524696914, 'Skewness': -0.8845416813403932, 'Kurtosis': 13.85499973748069}\n"
     ]
    }
   ],
   "source": [
    "# Einmaliges Gewicht basierend auf calmar\n",
    "weights_calmar = Strategies.risk_adjusted_weights(price_assets, method='calmar', max_weight=0.8).iloc[0]\n",
    "port_ret_calmar = (weights_calmar * log_ret_assets).sum(axis=1)\n",
    "print(\"Gewichte (calmar):\", weights_calmar.to_dict())\n",
    "print(\"KPIs (calmar):\", KPI.get_kpi_report(port_ret_calmar, risk_free_rate=rf))"
   ]
  },
  {
   "cell_type": "markdown",
   "id": "52493fcd",
   "metadata": {},
   "source": [
    "### 3. Marktbezogene Optimierer"
   ]
  },
  {
   "cell_type": "code",
   "execution_count": 12,
   "id": "c0b31433",
   "metadata": {},
   "outputs": [
    {
     "name": "stdout",
     "output_type": "stream",
     "text": [
      "Optimale Gewichte (Treynor): {'^SP500TR': 0.0, 'BTC-USD': 1.0}\n",
      "{'Ann. Return': 0.5451033448861652, 'Ann. Volatility': 0.7064086352102736, 'Sharpe Ratio': 0.7715746378863133, 'Sortino Ratio': 0.9445423057467562, 'Max Drawdown': -0.8303625055816857, 'Calmar Ratio': 0.656464304712686, 'Value at Risk': 0.07535837324124858, 'Skewness': -0.6844033729893472, 'Kurtosis': 12.368908974914822}\n"
     ]
    }
   ],
   "source": [
    "# Treynor-Optimierung\n",
    "opt_tr = Strategies.optimize_treynor(price_assets, log_ret_market, rf)\n",
    "print(\"Optimale Gewichte (Treynor):\", opt_tr.iloc[0].to_dict())\n",
    "port_ret_tr = (opt_tr.iloc[0] * log_ret_assets).sum(axis=1)\n",
    "print(KPI.get_kpi_report(port_ret_tr, market_returns=log_ret_market, risk_free_rate=rf))"
   ]
  },
  {
   "cell_type": "code",
   "execution_count": 13,
   "id": "3b4df5e5",
   "metadata": {},
   "outputs": [
    {
     "name": "stdout",
     "output_type": "stream",
     "text": [
      "Optimale Gewichte (Jensen): {'^SP500TR': 0.0, 'BTC-USD': 1.0}\n",
      "{'Ann. Return': 0.5451033448861652, 'Ann. Volatility': 0.7064086352102736, 'Sharpe Ratio': 0.7715746378863133, 'Sortino Ratio': 0.9445423057467562, 'Max Drawdown': -0.8303625055816857, 'Calmar Ratio': 0.656464304712686, 'Value at Risk': 0.07535837324124858, 'Skewness': -0.6844033729893472, 'Kurtosis': 12.368908974914822}\n"
     ]
    }
   ],
   "source": [
    "# Jensen-Optimierung\n",
    "opt_jn = Strategies.optimize_jensen(price_assets, log_ret_market, rf)\n",
    "print(\"Optimale Gewichte (Jensen):\", opt_jn.iloc[0].to_dict())\n",
    "port_ret_jn = (opt_jn.iloc[0] * log_ret_assets).sum(axis=1)\n",
    "print(KPI.get_kpi_report(port_ret_jn, market_returns=log_ret_market, risk_free_rate=rf))"
   ]
  },
  {
   "cell_type": "markdown",
   "id": "53617309",
   "metadata": {},
   "source": [
    "### 4. Marktunkorrellierte Optimierer"
   ]
  },
  {
   "cell_type": "code",
   "execution_count": 14,
   "id": "c4bd24da",
   "metadata": {},
   "outputs": [
    {
     "name": "stdout",
     "output_type": "stream",
     "text": [
      "Optimale Gewichte (Min Beta): {'^SP500TR': 0.0, 'BTC-USD': 1.0}\n",
      "{'Ann. Return': 0.5451033448861652, 'Ann. Volatility': 0.7064086352102736, 'Sharpe Ratio': 0.7715746378863133, 'Sortino Ratio': 0.9445423057467562, 'Max Drawdown': -0.8303625055816857, 'Calmar Ratio': 0.656464304712686, 'Value at Risk': 0.07535837324124858, 'Skewness': -0.6844033729893472, 'Kurtosis': 12.368908974914822}\n"
     ]
    }
   ],
   "source": [
    "# Minimale Beta\n",
    "opt_mb = Strategies.optimize_min_beta(price_assets, log_ret_market)\n",
    "print(\"Optimale Gewichte (Min Beta):\", opt_mb.iloc[0].to_dict())\n",
    "port_ret_mb = (opt_mb.iloc[0] * log_ret_assets).sum(axis=1)\n",
    "print(KPI.get_kpi_report(port_ret_mb, market_returns=log_ret_market, risk_free_rate=rf))"
   ]
  },
  {
   "cell_type": "code",
   "execution_count": 15,
   "id": "c95f778d",
   "metadata": {},
   "outputs": [
    {
     "name": "stdout",
     "output_type": "stream",
     "text": [
      "Optimale Gewichte (Min Corr): {'^SP500TR': 0.0, 'BTC-USD': 1.0}\n",
      "{'Ann. Return': 0.5451033448861652, 'Ann. Volatility': 0.7064086352102736, 'Sharpe Ratio': 0.7715746378863133, 'Sortino Ratio': 0.9445423057467562, 'Max Drawdown': -0.8303625055816857, 'Calmar Ratio': 0.656464304712686, 'Value at Risk': 0.07535837324124858, 'Skewness': -0.6844033729893472, 'Kurtosis': 12.368908974914822}\n"
     ]
    }
   ],
   "source": [
    "# Minimale Korrelation\n",
    "opt_mc = Strategies.optimize_min_corr(price_assets, log_ret_market)\n",
    "print(\"Optimale Gewichte (Min Corr):\", opt_mc.iloc[0].to_dict())\n",
    "port_ret_mc = (opt_mc.iloc[0] * log_ret_assets).sum(axis=1)\n",
    "print(KPI.get_kpi_report(port_ret_mc, market_returns=log_ret_market, risk_free_rate=rf))"
   ]
  },
  {
   "cell_type": "markdown",
   "id": "8ffce69e",
   "metadata": {},
   "source": [
    "## Erklärung von `src/strategies.py`\n",
    "- **sma_crossover:** 0/1-Signale pro Asset.\n",
    "- **risk_adjusted_weights:** Globale Gewichtung via Sharpe, Sortino, Calmar.\n",
    "- **optimize_treynor / optimize_jensen:** Maximierung marktbezogener KPIs.\n",
    "- **optimize_min_beta / optimize_min_corr:** Minimierung von Beta/Korrelation.\n",
    "\n",
    "Jede Optimierung iteriert Gewichte von 0–1 in 0.01-Schritten."
   ]
  }
 ],
 "metadata": {
  "kernelspec": {
   "display_name": "Python 3 (ipykernel)",
   "language": "python",
   "name": "python3"
  },
  "language_info": {
   "codemirror_mode": {
    "name": "ipython",
    "version": 3
   },
   "file_extension": ".py",
   "mimetype": "text/x-python",
   "name": "python",
   "nbconvert_exporter": "python",
   "pygments_lexer": "ipython3",
   "version": "3.10.18"
  }
 },
 "nbformat": 4,
 "nbformat_minor": 5
}
