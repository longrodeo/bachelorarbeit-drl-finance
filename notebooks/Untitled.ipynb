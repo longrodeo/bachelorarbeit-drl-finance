{
 "cells": [
  {
   "cell_type": "code",
   "execution_count": 3,
   "id": "674672c2-82ac-4140-af45-0f954ac70806",
   "metadata": {},
   "outputs": [],
   "source": [
    "import sys\n",
    "import os\n",
    "sys.path.append(os.path.abspath(os.path.join(os.getcwd(), '..')))\n",
    "import importlib\n",
    "import src.riskfree\n",
    "importlib.reload(src.riskfree)\n",
    "from src.riskfree import RiskFreeRate"
   ]
  },
  {
   "cell_type": "code",
   "execution_count": null,
   "id": "31cb5f9b-017e-4819-aa3b-b8339a5c1f51",
   "metadata": {},
   "outputs": [],
   "source": []
  }
 ],
 "metadata": {
  "kernelspec": {
   "display_name": "Python 3 (ipykernel)",
   "language": "python",
   "name": "python3"
  },
  "language_info": {
   "codemirror_mode": {
    "name": "ipython",
    "version": 3
   },
   "file_extension": ".py",
   "mimetype": "text/x-python",
   "name": "python",
   "nbconvert_exporter": "python",
   "pygments_lexer": "ipython3",
   "version": "3.10.18"
  }
 },
 "nbformat": 4,
 "nbformat_minor": 5
}
