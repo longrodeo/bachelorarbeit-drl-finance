{
 "cells": [
  {
   "cell_type": "code",
   "execution_count": 7,
   "id": "54c03af3-6338-424a-8458-1805b4e8e1e1",
   "metadata": {},
   "outputs": [
    {
     "name": "stdout",
     "output_type": "stream",
     "text": [
      "Annualisierter Return =  0.10996373398266479\n",
      "Standardabweichung =  0.16058314673776333\n",
      "Sharperatio =  0.4979584446258717\n",
      "Sortino Ratio =  0.8251508551143311\n",
      "Max Drawdown =  -0.358841972113917\n",
      "Calmar Ratio =  0.30644055748237836\n",
      "Beta =  0.0004507391351027438\n",
      "Alpha =  0.0798999943961503\n",
      "Treynor =  177.40579362925175\n",
      "Value at Risk (95%): 1.7075%\n",
      "Skewness: 0.0281\n",
      "Kurtosis: 3.1962\n",
      "Ann. Return       : 0.1100\n",
      "Ann. Volatility   : 0.1606\n",
      "Sharpe Ratio      : 0.4980\n",
      "Sortino Ratio     : 0.8252\n",
      "Max Drawdown      : -0.3588\n",
      "Calmar Ratio      : 0.3064\n",
      "Value at Risk     : 0.0171\n",
      "Skewness          : 0.0281\n",
      "Kurtosis          : 3.1962\n",
      "Treynor Ratio     : 177.4058\n",
      "Jensen Alpha      : 0.0799\n"
     ]
    }
   ],
   "source": [
    "import numpy as np\n",
    "import pandas as pd\n",
    "import importlib\n",
    "import src.kpis\n",
    "importlib.reload(src.kpis)\n",
    "import sys\n",
    "sys.path.append(\"../\")  # damit Python src/ findet\n",
    "\n",
    "from src.kpis import KPI\n",
    "\n",
    "# Simuliere log-Renditen für 10 Jahre à 252 Tage\n",
    "log_ret = pd.Series(np.random.normal(0.0005, 0.01, 252*10))\n",
    "\n",
    "# Kumulierte Returns für Max Drawdown\n",
    "cum_returns = np.exp(log_ret.cumsum())\n",
    "\n",
    "# Markt für Alpha und Beta\n",
    "market = pd.Series(np.random.normal(0.0006, 0.009, 252*10))\n",
    "beta = KPI.estimate_beta(log_ret, market)\n",
    "\n",
    "anreturn = KPI.annualized_return(log_ret)\n",
    "andeviation = KPI.annualized_volatility(log_ret)\n",
    "sharperatio = KPI.sharpe_ratio(log_ret, risk_free_rate=0.03)  # z. B. 3 % risikoloser Zins\n",
    "sortino = KPI.sortino_ratio(log_ret, risk_free_rate=0.03)\n",
    "dd = KPI.max_drawdown(cum_returns)\n",
    "calmar = KPI.calmar_ratio(log_ret)\n",
    "alpha = KPI.jensen_alpha(log_ret, market, beta, risk_free_rate=0.03)\n",
    "treynor = KPI.treynor_ratio(log_ret, beta, risk_free_rate=0.03)\n",
    "var95 = KPI.value_at_risk(log_ret, confidence_level=0.95)\n",
    "\n",
    "kpi_report = KPI.get_kpi_report(log_ret, market, risk_free_rate=0.03, beta = beta, confidence_level=0.95)\n",
    "\n",
    "\n",
    "# Annualisierte Rendite berechnen\n",
    "print(\"Annualisierter Return = \", anreturn )\n",
    "print(\"Standardabweichung = \", andeviation)\n",
    "print(\"Sharperatio = \", sharperatio)\n",
    "print(\"Sortino Ratio = \", sortino)\n",
    "print(\"Max Drawdown = \", dd)\n",
    "print(\"Calmar Ratio = \", calmar)\n",
    "print(\"Beta = \", beta)\n",
    "print(\"Alpha = \", alpha)\n",
    "print(\"Treynor = \", treynor)\n",
    "print(f\"Value at Risk (95%): {var95:.4%}\")\n",
    "print(f\"Skewness: {KPI.skewness(log_ret):.4f}\")\n",
    "print(f\"Kurtosis: {KPI.kurtosis(log_ret):.4f}\")\n",
    "for k, v in kpi_report.items():\n",
    "    print(f\"{k:18s}: {v:.4f}\")\n"
   ]
  },
  {
   "cell_type": "code",
   "execution_count": null,
   "id": "ddd4a16e-00b0-4a37-ab4f-a41a25c416a8",
   "metadata": {},
   "outputs": [],
   "source": []
  },
  {
   "cell_type": "code",
   "execution_count": null,
   "id": "5b6c5302-e771-4a92-a61c-b80e26503af7",
   "metadata": {},
   "outputs": [],
   "source": []
  }
 ],
 "metadata": {
  "kernelspec": {
   "display_name": "Python 3 (ipykernel)",
   "language": "python",
   "name": "python3"
  },
  "language_info": {
   "codemirror_mode": {
    "name": "ipython",
    "version": 3
   },
   "file_extension": ".py",
   "mimetype": "text/x-python",
   "name": "python",
   "nbconvert_exporter": "python",
   "pygments_lexer": "ipython3",
   "version": "3.10.18"
  }
 },
 "nbformat": 4,
 "nbformat_minor": 5
}
