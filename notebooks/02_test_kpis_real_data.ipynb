{
 "cells": [
  {
   "cell_type": "markdown",
   "id": "c0acd862",
   "metadata": {},
   "source": [
    "# 📊 Pipeline-Demo: Returns & KPIs\n",
    "\n",
    "Dieses Notebook demonstriert die gesamte Pipeline:\n",
    "1. Preis-Download\n",
    "2. Renditeberechnung\n",
    "3. KPI-Auswertung"
   ]
  },
  {
   "cell_type": "code",
   "execution_count": 2,
   "id": "3bdae7ab",
   "metadata": {},
   "outputs": [],
   "source": [
    "import sys\n",
    "import os\n",
    "sys.path.append(os.path.abspath(os.path.join(os.getcwd(), '..')))\n",
    "from data.loader import load_prices\n",
    "from src.returns import Returns\n",
    "from src.kpis import KPI\n",
    "from rates.riskfree import RiskFreeRate"
   ]
  },
  {
   "cell_type": "code",
   "execution_count": 7,
   "id": "24fdbd08",
   "metadata": {},
   "outputs": [
    {
     "name": "stderr",
     "output_type": "stream",
     "text": [
      "[*********************100%***********************]  2 of 2 completed\n"
     ]
    }
   ],
   "source": [
    "# Parameter\n",
    "tickers = [\"^SP500TR\", \"BTC-USD\"]\n",
    "start = \"2015-01-01\"\n",
    "end = \"2025-07-29\"\n",
    "\n",
    "# Daten laden\n",
    "df_prices = load_prices(tickers, start, end)\n",
    "df_prices.tail()\n",
    "\n",
    "# Daten für realen Riskfree Zins laden\n",
    "date_index = df_prices.index  # oder df_prices.index[1:]\n",
    "\n",
    "# US risk-free via FRED\n",
    "rf_us = RiskFreeRate.us_fred(date_index)"
   ]
  },
  {
   "cell_type": "code",
   "execution_count": 8,
   "id": "1bd862df",
   "metadata": {},
   "outputs": [
    {
     "data": {
      "text/html": [
       "<div>\n",
       "<style scoped>\n",
       "    .dataframe tbody tr th:only-of-type {\n",
       "        vertical-align: middle;\n",
       "    }\n",
       "\n",
       "    .dataframe tbody tr th {\n",
       "        vertical-align: top;\n",
       "    }\n",
       "\n",
       "    .dataframe thead th {\n",
       "        text-align: right;\n",
       "    }\n",
       "</style>\n",
       "<table border=\"1\" class=\"dataframe\">\n",
       "  <thead>\n",
       "    <tr style=\"text-align: right;\">\n",
       "      <th>Ticker</th>\n",
       "      <th>BTC-USD</th>\n",
       "      <th>^SP500TR</th>\n",
       "    </tr>\n",
       "    <tr>\n",
       "      <th>Date</th>\n",
       "      <th></th>\n",
       "      <th></th>\n",
       "    </tr>\n",
       "  </thead>\n",
       "  <tbody>\n",
       "    <tr>\n",
       "      <th>2025-07-22</th>\n",
       "      <td>0.021530</td>\n",
       "      <td>0.000659</td>\n",
       "    </tr>\n",
       "    <tr>\n",
       "      <th>2025-07-23</th>\n",
       "      <td>-0.010391</td>\n",
       "      <td>0.007794</td>\n",
       "    </tr>\n",
       "    <tr>\n",
       "      <th>2025-07-24</th>\n",
       "      <td>-0.003264</td>\n",
       "      <td>0.000706</td>\n",
       "    </tr>\n",
       "    <tr>\n",
       "      <th>2025-07-25</th>\n",
       "      <td>-0.006204</td>\n",
       "      <td>0.004019</td>\n",
       "    </tr>\n",
       "    <tr>\n",
       "      <th>2025-07-28</th>\n",
       "      <td>0.002450</td>\n",
       "      <td>0.000176</td>\n",
       "    </tr>\n",
       "  </tbody>\n",
       "</table>\n",
       "</div>"
      ],
      "text/plain": [
       "Ticker       BTC-USD  ^SP500TR\n",
       "Date                          \n",
       "2025-07-22  0.021530  0.000659\n",
       "2025-07-23 -0.010391  0.007794\n",
       "2025-07-24 -0.003264  0.000706\n",
       "2025-07-25 -0.006204  0.004019\n",
       "2025-07-28  0.002450  0.000176"
      ]
     },
     "execution_count": 8,
     "metadata": {},
     "output_type": "execute_result"
    }
   ],
   "source": [
    "# Renditen berechnen\n",
    "log_ret = Returns.log(df_prices)\n",
    "log_ret.tail()"
   ]
  },
  {
   "cell_type": "code",
   "execution_count": 5,
   "id": "6c13e0f6",
   "metadata": {},
   "outputs": [
    {
     "data": {
      "text/plain": [
       "{'Ann. Return': 0.5697401933242213,\n",
       " 'Ann. Volatility': 0.6932160098972969,\n",
       " 'Sharpe Ratio': 0.821879739056562,\n",
       " 'Sortino Ratio': 1.023877705420707,\n",
       " 'Max Drawdown': -0.8303625055816857,\n",
       " 'Calmar Ratio': 0.6861342961591297,\n",
       " 'Value at Risk': 0.07408917093325307,\n",
       " 'Skewness': -0.6307369813143411,\n",
       " 'Kurtosis': 12.22034679427247}"
      ]
     },
     "execution_count": 5,
     "metadata": {},
     "output_type": "execute_result"
    }
   ],
   "source": [
    "# KPI-Berechnung (z. B. für BTC)\n",
    "btc_log_ret = log_ret[\"BTC-USD\"]\n",
    "KPI.get_kpi_report(btc_log_ret)"
   ]
  },
  {
   "cell_type": "code",
   "execution_count": 9,
   "id": "1414d1bd-10f8-431c-8edb-e62462f7b922",
   "metadata": {},
   "outputs": [
    {
     "data": {
      "text/plain": [
       "{'Ann. Return': 0.12539453601594366,\n",
       " 'Ann. Volatility': 0.1817597757243925,\n",
       " 'Sharpe Ratio': 0.6898915643804654,\n",
       " 'Sortino Ratio': 0.8192733455324857,\n",
       " 'Max Drawdown': -0.33790463651871705,\n",
       " 'Calmar Ratio': 0.37109445229230487,\n",
       " 'Value at Risk': 0.019330825383957896,\n",
       " 'Skewness': -0.6478433352385009,\n",
       " 'Kurtosis': 18.704203916606684}"
      ]
     },
     "execution_count": 9,
     "metadata": {},
     "output_type": "execute_result"
    }
   ],
   "source": [
    "# KPI-Berechnung (z. B. für SP500 mit Dividende)\n",
    "sp500tr_log_ret = log_ret[\"^SP500TR\"]\n",
    "KPI.get_kpi_report(sp500tr_log_ret)"
   ]
  },
  {
   "cell_type": "code",
   "execution_count": null,
   "id": "3084d329-7dcc-4287-beb9-04887d2ddf7a",
   "metadata": {},
   "outputs": [],
   "source": []
  }
 ],
 "metadata": {
  "kernelspec": {
   "display_name": "Python 3 (ipykernel)",
   "language": "python",
   "name": "python3"
  },
  "language_info": {
   "codemirror_mode": {
    "name": "ipython",
    "version": 3
   },
   "file_extension": ".py",
   "mimetype": "text/x-python",
   "name": "python",
   "nbconvert_exporter": "python",
   "pygments_lexer": "ipython3",
   "version": "3.10.18"
  }
 },
 "nbformat": 4,
 "nbformat_minor": 5
}
